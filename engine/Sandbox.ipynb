{
 "cells": [
  {
   "cell_type": "code",
   "execution_count": null,
   "metadata": {},
   "outputs": [],
   "source": [
    "include(\"./src/ReinforcedSprings.jl\")\n",
    "include(\"./tests/building_blocks.jl\")\n",
    "Compose.set_default_graphic_size(8cm, 8cm)"
   ]
  },
  {
   "cell_type": "code",
   "execution_count": null,
   "metadata": {},
   "outputs": [],
   "source": [
    "n = 17\n",
    "my_contraption = Contraption(regular_polygon(n, radius = 2),\n",
    "                             zeros(2, n), \n",
    "                             ones(n),\n",
    "                             3000*loop_graph(n, [1,2,9]))\n",
    "\n",
    "engine(my_contraption,\n",
    "       settings = hielastic_settings, t_total = 100.,\n",
    "       render = true, logging = false, realtime = false)"
   ]
  },
  {
   "cell_type": "code",
   "execution_count": null,
   "metadata": {
    "scrolled": true
   },
   "outputs": [],
   "source": [
    "engine(seven_contraption,\n",
    "       settings = noloss_settings, t_total = 10.,\n",
    "       render = true, logging = false, realtime = false)"
   ]
  }
 ],
 "metadata": {
  "kernelspec": {
   "display_name": "Julia 1.0.0",
   "language": "julia",
   "name": "julia-1.0"
  },
  "language_info": {
   "file_extension": ".jl",
   "mimetype": "application/julia",
   "name": "julia",
   "version": "1.0.0"
  }
 },
 "nbformat": 4,
 "nbformat_minor": 2
}
