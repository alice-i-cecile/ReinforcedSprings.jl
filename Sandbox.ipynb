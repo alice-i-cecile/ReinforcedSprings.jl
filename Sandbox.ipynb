{
 "cells": [
  {
   "cell_type": "code",
   "execution_count": null,
   "metadata": {},
   "outputs": [],
   "source": [
    "using ReinforcedSprings"
   ]
  },
  {
   "cell_type": "code",
   "execution_count": null,
   "metadata": {},
   "outputs": [],
   "source": [
    "n = 15\n",
    "\n",
    "my_contraption = Contraption(regular_polygon(n), complete_graph(n))\n",
    "\n",
    "build_contraption(my_contraption)"
   ]
  },
  {
   "cell_type": "code",
   "execution_count": null,
   "metadata": {},
   "outputs": [],
   "source": [
    "for i in 1:20\n",
    "    my_contraption = Contraption(regular_polygon(i), complete_graph(i))\n",
    "\n",
    "    \n",
    "    draw(SVG(\"contraption$i.svg\", 4cm, 4cm), build_contraption(my_contraption))\n",
    "end"
   ]
  }
 ],
 "metadata": {
  "kernelspec": {
   "display_name": "Julia 1.0.0",
   "language": "julia",
   "name": "julia-1.0"
  },
  "language_info": {
   "file_extension": ".jl",
   "mimetype": "application/julia",
   "name": "julia",
   "version": "1.0.0"
  }
 },
 "nbformat": 4,
 "nbformat_minor": 2
}
