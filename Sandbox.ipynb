{
 "cells": [
  {
   "cell_type": "code",
   "execution_count": 4,
   "metadata": {},
   "outputs": [
    {
     "data": {
      "text/plain": [
       "PhysicsSettings\n",
       "  g: Float64 10.0\n",
       "  drag: Float64 0.1\n",
       "  elasticity: Float64 0.4\n",
       "  bounds: Bounds\n"
      ]
     },
     "execution_count": 4,
     "metadata": {},
     "output_type": "execute_result"
    }
   ],
   "source": [
    "include(\"./src/ReinforcedSprings.jl\")\n",
    "include(\"./tests/building_blocks.jl\")"
   ]
  },
  {
   "cell_type": "code",
   "execution_count": 2,
   "metadata": {},
   "outputs": [
    {
     "data": {
      "text/plain": [
       "10.0"
      ]
     },
     "execution_count": 2,
     "metadata": {},
     "output_type": "execute_result"
    }
   ],
   "source": [
    "contraption = one_contraption\n",
    "settings = default_settings\n",
    "Δt = 0.1\n",
    "t_total = 10."
   ]
  },
  {
   "cell_type": "code",
   "execution_count": 3,
   "metadata": {},
   "outputs": [
    {
     "ename": "MethodError",
     "evalue": "MethodError: no method matching +(::Array{Float64,1}, ::Tuple{Float64,Float64})\nClosest candidates are:\n  +(::Any, ::Any, !Matched::Any, !Matched::Any...) at operators.jl:502\n  +(::Array, !Matched::Array...) at arraymath.jl:44\n  +(::Array, !Matched::SparseArrays.SparseMatrixCSC) at C:\\cygwin\\home\\Administrator\\buildbot\\worker\\package_win64\\build\\usr\\share\\julia\\stdlib\\v1.0\\SparseArrays\\src\\sparsematrix.jl:1563\n  ...",
     "output_type": "error",
     "traceback": [
      "MethodError: no method matching +(::Array{Float64,1}, ::Tuple{Float64,Float64})\nClosest candidates are:\n  +(::Any, ::Any, !Matched::Any, !Matched::Any...) at operators.jl:502\n  +(::Array, !Matched::Array...) at arraymath.jl:44\n  +(::Array, !Matched::SparseArrays.SparseMatrixCSC) at C:\\cygwin\\home\\Administrator\\buildbot\\worker\\package_win64\\build\\usr\\share\\julia\\stdlib\\v1.0\\SparseArrays\\src\\sparsematrix.jl:1563\n  ...",
      "",
      "Stacktrace:",
      " [1] stepped_dynamics(::Contraption, ::PhysicsSettings, ::Float64) at C:\\Users\\Alice\\Documents\\Projects\\ReinforcedSprings.jl\\src\\physics.jl:17",
      " [2] top-level scope at In[3]:21"
     ]
    }
   ],
   "source": [
    "n = length(contraption.mass)\n",
    "n_steps = Int(div(t_total, Δt))\n",
    "\n",
    "# Check that contraption is initialized in bounds\n",
    "for i in 1:n\n",
    "    in_bounds(s) = (settings.bounds.x[1] <= s[1] <= settings.bounds.x[2]) &\n",
    "                   (settings.bounds.y[1] <= s[2] <= settings.bounds.y[2])\n",
    "\n",
    "    @assert in_bounds(contraption.position[:, i])\n",
    "end\n",
    "\n",
    "# Store position and velocity evolution as an array \n",
    "# for display, debugging and evaluation\n",
    "# Axes are: time step, x vs y, point number\n",
    "positions = Array{Float64}(undef, n_steps, 2, n)\n",
    "velocities = Array{Float64}(undef, n_steps, 2, n)\n",
    "\n",
    "t = 1\n",
    "positions[t, :, :] = contraption.position\n",
    "velocities[t, :, :] = contraption.velocity\n",
    "\n",
    "position, velocity = stepped_dynamics(contraption, settings, Δt)\n",
    "\n",
    "contraption = Contraption(position, \n",
    "                            velocity, \n",
    "                            contraption.mass,\n",
    "                            contraption.springs,\n",
    "                            contraption.rest_length)"
   ]
  }
 ],
 "metadata": {
  "kernelspec": {
   "display_name": "Julia 1.0.0",
   "language": "julia",
   "name": "julia-1.0"
  },
  "language_info": {
   "file_extension": ".jl",
   "mimetype": "application/julia",
   "name": "julia",
   "version": "1.0.0"
  }
 },
 "nbformat": 4,
 "nbformat_minor": 2
}
