{
 "cells": [
  {
   "cell_type": "code",
   "execution_count": 1,
   "metadata": {},
   "outputs": [
    {
     "data": {
      "text/plain": [
       "PhysicsSettings\n",
       "  g: Float64 10.0\n",
       "  drag: Float64 0.1\n",
       "  elasticity: Float64 0.4\n",
       "  bounds: Bounds\n"
      ]
     },
     "execution_count": 1,
     "metadata": {},
     "output_type": "execute_result"
    }
   ],
   "source": [
    "include(\"./src/ReinforcedSprings.jl\")\n",
    "include(\"./tests/building_blocks.jl\")"
   ]
  },
  {
   "cell_type": "code",
   "execution_count": 2,
   "metadata": {},
   "outputs": [
    {
     "data": {
      "text/plain": [
       "(position = [0.0 1.62597e-260; 2.12148e-314 4.31925e-315; … ; 4.44033e252 1.61555e-315; 0.0 0.0], velocity = [1.2732e-313 8.87194e-320; 0.0 4.33325e-315; … ; 1.60305e-315 0.0; 0.0 0.0])"
      ]
     },
     "execution_count": 2,
     "metadata": {},
     "output_type": "execute_result"
    }
   ],
   "source": [
    "results = engine(one_contraption)"
   ]
  }
 ],
 "metadata": {
  "kernelspec": {
   "display_name": "Julia 1.0.0",
   "language": "julia",
   "name": "julia-1.0"
  },
  "language_info": {
   "file_extension": ".jl",
   "mimetype": "application/julia",
   "name": "julia",
   "version": "1.0.0"
  }
 },
 "nbformat": 4,
 "nbformat_minor": 2
}
