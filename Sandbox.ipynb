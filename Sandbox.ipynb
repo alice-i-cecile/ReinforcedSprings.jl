{
 "cells": [
  {
   "cell_type": "code",
   "execution_count": 1,
   "metadata": {},
   "outputs": [
    {
     "data": {
      "text/plain": [
       "PhysicsSettings\n",
       "  g: Float64 10.0\n",
       "  drag: Float64 0.1\n",
       "  elasticity: Float64 0.4\n",
       "  bounds: Bounds\n"
      ]
     },
     "execution_count": 1,
     "metadata": {},
     "output_type": "execute_result"
    }
   ],
   "source": [
    "include(\"./src/ReinforcedSprings.jl\")\n",
    "include(\"./tests/building_blocks.jl\")"
   ]
  },
  {
   "cell_type": "code",
   "execution_count": 2,
   "metadata": {},
   "outputs": [
    {
     "data": {
      "text/plain": [
       "(position = [0.0 0.0; 0.0 -0.001; … ; 0.0 -99.9986; 0.0 -99.9981], velocity = [0.0 0.0; 0.0 -0.1; … ; 0.0 -0.0418937; 0.0 0.0567407])"
      ]
     },
     "execution_count": 2,
     "metadata": {},
     "output_type": "execute_result"
    }
   ],
   "source": [
    "results = engine(one_contraption)"
   ]
  },
  {
   "cell_type": "code",
   "execution_count": 3,
   "metadata": {},
   "outputs": [
    {
     "data": {
      "text/plain": [
       "(position = [1.0 1.0; 1.0002 0.9992; … ; 99.9983 99.9937; 99.9983 99.9937]\n",
       "\n",
       "[-1.0 -1.0; -1.0002 -1.0012; … ; -99.9954 -99.9633; -99.9954 -99.9633], velocity = [0.0 0.0; 0.02 -0.08; … ; 2.18779 -2.34843; 4.18554 0.178606]\n",
       "\n",
       "[0.0 0.0; -0.02 -0.12; … ; 0.191503 -0.116503; -1.80863 -0.354553])"
      ]
     },
     "execution_count": 3,
     "metadata": {},
     "output_type": "execute_result"
    }
   ],
   "source": [
    "results = engine(two_contraption)"
   ]
  },
  {
   "cell_type": "code",
   "execution_count": 4,
   "metadata": {},
   "outputs": [
    {
     "data": {
      "text/plain": [
       "(position = [-1.0 -1.0; -1.0002 -1.0011; … ; -99.99 -99.9925; -99.99 -99.9925]\n",
       "\n",
       "[0.0 0.0; 7.07107e-5 -0.000870711; … ; 99.9956 99.9507; 99.9956 99.9507]\n",
       "\n",
       "[1.0 -1.0; 1.00013 -1.00103; … ; 99.9958 -99.968; 99.9958 -99.968], velocity = [0.0 0.0; -0.02 -0.11; … ; 2.28 -2.89805; -1.712 -0.799172]\n",
       "\n",
       "[0.0 0.0; 0.00707107 -0.0870711; … ; -2.47241 4.25388; 0.188035 8.13824]\n",
       "\n",
       "[0.0 0.0; 0.0129289 -0.102929; … ; -0.190538 -0.115913; 1.79951 -0.352759])"
      ]
     },
     "execution_count": 4,
     "metadata": {},
     "output_type": "execute_result"
    }
   ],
   "source": [
    "results = engine(three_contraption)"
   ]
  },
  {
   "cell_type": "code",
   "execution_count": 5,
   "metadata": {},
   "outputs": [
    {
     "data": {
      "text/plain": [
       "(position = [0.62349 0.781831; 0.623801 0.781048; … ; 99.9808 99.9745; 99.9808 99.9745]\n",
       "\n",
       "[-0.222521 0.974928; -0.222601 0.974222; … ; -99.8752 99.9735; -99.8752 99.9735]\n",
       "\n",
       "[-0.900969 0.433884; -0.901292 0.433032; … ; -99.9577 99.9524; -99.9577 99.9524]\n",
       "\n",
       "[-0.900969 -0.433884; -0.901181 -0.435116; … ; -99.9902 -99.8639; -99.9902 -99.8639]\n",
       "\n",
       "[-0.222521 -0.974928; -0.222657 -0.976097; … ; -99.9788 -99.9013; -99.9788 -99.9013]\n",
       "\n",
       "[0.62349 -0.781831; 0.623735 -0.783185; … ; 99.8544 -99.8851; 99.8544 -99.8851]\n",
       "\n",
       "[1.0 -2.44929e-16; 1.0002 -0.000904642; … ; 99.9685 26.4517; 99.9133 26.4481], velocity = [0.0 0.0; 0.0311049 -0.078359; … ; 16.691 0.620651; -9.85986 7.22082]\n",
       "\n",
       "[0.0 0.0; -0.00805655 -0.0705642; … ; -12.5177 0.620728; 7.39454 7.22171]\n",
       "\n",
       "[0.0 0.0; -0.0322775 -0.085173; … ; -12.4898 0.621179; 7.37806 7.22696]\n",
       "\n",
       "[0.0 0.0; -0.0212526 -0.123192; … ; 7.38083 -8.0393; -0.561338 -15.3803]\n",
       "\n",
       "[0.0 0.0; -0.0135583 -0.116903; … ; 3.4173 -3.13576; -2.56598 4.17616]\n",
       "\n",
       "[0.0 0.0; 0.0245057 -0.135344; … ; 8.71197 9.07025; 16.6672 -0.68982]\n",
       "\n",
       "[0.0 0.0; 0.0195342 -0.0904642; … ; 5.82817 -1.84138; -5.51283 -0.354914])"
      ]
     },
     "execution_count": 5,
     "metadata": {},
     "output_type": "execute_result"
    }
   ],
   "source": [
    "results = engine(seven_contraption)"
   ]
  }
 ],
 "metadata": {
  "kernelspec": {
   "display_name": "Julia 1.0.0",
   "language": "julia",
   "name": "julia-1.0"
  },
  "language_info": {
   "file_extension": ".jl",
   "mimetype": "application/julia",
   "name": "julia",
   "version": "1.0.0"
  }
 },
 "nbformat": 4,
 "nbformat_minor": 2
}
