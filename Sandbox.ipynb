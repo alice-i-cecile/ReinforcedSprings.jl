{
 "cells": [
  {
   "cell_type": "code",
   "execution_count": null,
   "metadata": {},
   "outputs": [],
   "source": [
    "mutable struct Contraption\n",
    "    points::Array{Float64, 2}\n",
    "    springs::Array{Int, 2}\n",
    "end\n",
    "\n",
    "function reshape_springs(springs::Array{Bool, 2})\n",
    "    \n",
    "    n = size(springs, 1)\n",
    "    sparse_c = Array{Int, 2}(undef, 2, 0)\n",
    "    \n",
    "    for i in 1:n, j in (i+1):n\n",
    "        if springs[i, j]\n",
    "            sparse_c = hcat(sparse_c, [i; j])\n",
    "        end\n",
    "    end\n",
    "    \n",
    "    return sparse_c\n",
    "end\n",
    "\n",
    "function Contraption(points, springs::Array{Bool, 2}) \n",
    "    \n",
    "    # Basic shape checking\n",
    "    @assert size(points, 1) == 2\n",
    "    @assert size(points, 2) == size(springs, 1) == size(springs, 2)\n",
    "    \n",
    "    return Contraption(points, reshape_springs(springs))\n",
    "                        \n",
    "end     \n",
    "\n",
    "function Contraption(points, springs::Array{Int, 2}) \n",
    "    \n",
    "    # Basic shape checking\n",
    "    @assert size(points, 1) == 2\n",
    "    @assert 1 <= minimum(springs)\n",
    "    @assert maximum(springs) <= size(points, 2)\n",
    "    \n",
    "    return Contraption(points, springs)\n",
    "                             \n",
    "end"
   ]
  },
  {
   "cell_type": "code",
   "execution_count": null,
   "metadata": {},
   "outputs": [],
   "source": [
    "function regular_polygon(n, radius = 1., center=[0., 0.])\n",
    "    function create_point(i)\n",
    "        θ = 2*π*i/n\n",
    "        point = [center[1] + radius*cos(θ), \n",
    "                 center[2] + radius*sin(θ)]\n",
    "        return point\n",
    "    end\n",
    "    \n",
    "    points = Array{Float64,2}(undef, 2, n)\n",
    "    for i in 1:n\n",
    "        points[1, i], points[2, i] = create_point(i)\n",
    "    end\n",
    "    \n",
    "    return points\n",
    "end\n",
    "\n",
    "function complete_graph(n)\n",
    "   return ones(Bool, n, n) \n",
    "end"
   ]
  },
  {
   "cell_type": "code",
   "execution_count": null,
   "metadata": {},
   "outputs": [],
   "source": [
    "n = 200\n",
    "\n",
    "my_contraption = Contraption(regular_polygon(n), complete_graph(n))"
   ]
  },
  {
   "cell_type": "code",
   "execution_count": null,
   "metadata": {},
   "outputs": [],
   "source": [
    "using Compose\n",
    "compose(context(), circle(), fill(\"gold\"))"
   ]
  },
  {
   "cell_type": "code",
   "execution_count": null,
   "metadata": {},
   "outputs": [],
   "source": [
    "using Pkg\n",
    "\n",
    "Pkg.add(\"Compose\")"
   ]
  }
 ],
 "metadata": {
  "kernelspec": {
   "display_name": "Julia 1.0.0",
   "language": "julia",
   "name": "julia-1.0"
  },
  "language_info": {
   "file_extension": ".jl",
   "mimetype": "application/julia",
   "name": "julia",
   "version": "1.0.0"
  }
 },
 "nbformat": 4,
 "nbformat_minor": 2
}
